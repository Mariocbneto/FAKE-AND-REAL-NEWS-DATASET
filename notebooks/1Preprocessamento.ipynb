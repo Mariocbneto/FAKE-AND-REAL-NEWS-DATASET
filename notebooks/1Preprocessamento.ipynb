{
 "cells": [
  {
   "cell_type": "code",
   "execution_count": 2,
   "id": "30f1d114",
   "metadata": {},
   "outputs": [],
   "source": [
    "import pandas as pd \n",
    "df = pd.read_csv('../data/noticiasJuntas.csv')"
   ]
  },
  {
   "cell_type": "code",
   "execution_count": 3,
   "id": "9ee3d147",
   "metadata": {},
   "outputs": [],
   "source": [
    "df['texto_limpo'] = df['title'].astype(str) + ' ' + df['text'].astype(str)"
   ]
  },
  {
   "cell_type": "code",
   "execution_count": 4,
   "id": "53cf5ee2",
   "metadata": {},
   "outputs": [],
   "source": [
    "df_final = df[['texto_limpo', 'rotulo']]"
   ]
  },
  {
   "cell_type": "code",
   "execution_count": null,
   "id": "ddce646e",
   "metadata": {},
   "outputs": [],
   "source": [
    "df_final.to_csv('../data/noticias_limpo.csv', index=False)"
   ]
  },
  {
   "cell_type": "code",
   "execution_count": 6,
   "id": "9a4bdd42",
   "metadata": {},
   "outputs": [
    {
     "name": "stdout",
     "output_type": "stream",
     "text": [
      "Pré-processamento concluído!\n"
     ]
    }
   ],
   "source": [
    "print(\"Pré-processamento concluído!\")"
   ]
  }
 ],
 "metadata": {
  "kernelspec": {
   "display_name": "Python 3",
   "language": "python",
   "name": "python3"
  },
  "language_info": {
   "codemirror_mode": {
    "name": "ipython",
    "version": 3
   },
   "file_extension": ".py",
   "mimetype": "text/x-python",
   "name": "python",
   "nbconvert_exporter": "python",
   "pygments_lexer": "ipython3",
   "version": "3.13.1"
  }
 },
 "nbformat": 4,
 "nbformat_minor": 5
}
