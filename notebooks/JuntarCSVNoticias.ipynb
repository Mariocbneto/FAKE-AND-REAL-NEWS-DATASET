{
 "cells": [
  {
   "cell_type": "code",
   "execution_count": null,
   "id": "37ff68e3",
   "metadata": {},
   "outputs": [],
   "source": [
    "import pandas as pd \n",
    "# https://www.kaggle.com/datasets/clmentbisaillon/fake-and-real-news-dataset\n",
    "# baixe o arquivo e coloque na pasta data\n",
    "fake_df = pd.read_csv('../data/Fake.csv')\n",
    "real_df = pd.read_csv('../data/True.csv')\n",
    "\n",
    "fake_df['rotulo'] = 0 # 0 = FAKE\n",
    "real_df['rotulo'] = 1 # 1 = REAL\n",
    "\n",
    "df = pd.concat([fake_df, real_df], ignore_index=True)\n",
    "df = df.sample(frac=1, random_state=42).reset_index(drop=True)\n",
    "\n"
   ]
  },
  {
   "cell_type": "code",
   "execution_count": null,
   "id": "139d6d36",
   "metadata": {},
   "outputs": [],
   "source": [
    "# df.to_csv('noticiasJuntas.csv', index=False)"
   ]
  },
  {
   "cell_type": "code",
   "execution_count": 3,
   "id": "57630bd1",
   "metadata": {},
   "outputs": [
    {
     "data": {
      "text/plain": [
       "rotulo\n",
       "0    23481\n",
       "1    21417\n",
       "Name: count, dtype: int64"
      ]
     },
     "execution_count": 3,
     "metadata": {},
     "output_type": "execute_result"
    }
   ],
   "source": [
    "df['rotulo'].value_counts()"
   ]
  }
 ],
 "metadata": {
  "kernelspec": {
   "display_name": "Python 3",
   "language": "python",
   "name": "python3"
  },
  "language_info": {
   "codemirror_mode": {
    "name": "ipython",
    "version": 3
   },
   "file_extension": ".py",
   "mimetype": "text/x-python",
   "name": "python",
   "nbconvert_exporter": "python",
   "pygments_lexer": "ipython3",
   "version": "3.13.1"
  }
 },
 "nbformat": 4,
 "nbformat_minor": 5
}
